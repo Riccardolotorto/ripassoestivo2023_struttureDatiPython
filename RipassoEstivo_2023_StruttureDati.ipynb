{
  "nbformat": 4,
  "nbformat_minor": 0,
  "metadata": {
    "colab": {
      "provenance": [],
      "collapsed_sections": [
        "M46H8Xi4YT49",
        "qN4ZDGx9c8Vc",
        "jiByH9YdhIZx"
      ],
      "authorship_tag": "ABX9TyOyqzeTYOH+dxIRwbNPgjxS",
      "include_colab_link": true
    },
    "kernelspec": {
      "name": "python3",
      "display_name": "Python 3"
    },
    "language_info": {
      "name": "python"
    }
  },
  "cells": [
    {
      "cell_type": "markdown",
      "metadata": {
        "id": "view-in-github",
        "colab_type": "text"
      },
      "source": [
        "<a href=\"https://colab.research.google.com/github/Riccardolotorto/ripassoestivo2023_struttureDatiPython/blob/main/RipassoEstivo_2023_StruttureDati.ipynb\" target=\"_parent\"><img src=\"https://colab.research.google.com/assets/colab-badge.svg\" alt=\"Open In Colab\"/></a>"
      ]
    },
    {
      "cell_type": "markdown",
      "source": [
        "#liste"
      ],
      "metadata": {
        "id": "M46H8Xi4YT49"
      }
    },
    {
      "cell_type": "code",
      "execution_count": null,
      "metadata": {
        "id": "j3L6V9ipYK7u"
      },
      "outputs": [],
      "source": [
        "lista = [10, 20, 30, 40, 50]\n",
        "print(lista)"
      ]
    },
    {
      "cell_type": "code",
      "source": [
        "lista[0]  #mostro il primo elemento"
      ],
      "metadata": {
        "id": "rWfdOyCEYfrz"
      },
      "execution_count": null,
      "outputs": []
    },
    {
      "cell_type": "code",
      "source": [
        "lista[-1]  #mostro l'ultimo elemento"
      ],
      "metadata": {
        "id": "gMo8R1OxZXk_"
      },
      "execution_count": null,
      "outputs": []
    },
    {
      "cell_type": "code",
      "source": [
        "len(lista)  #mostro la lunghezza della lista"
      ],
      "metadata": {
        "id": "_OEVBSycZZHw"
      },
      "execution_count": null,
      "outputs": []
    },
    {
      "cell_type": "code",
      "source": [
        "lista.append(100)  #aggiunge 100 alla fine della lista\n",
        "print(lista)"
      ],
      "metadata": {
        "id": "xcJG-AWzZbib"
      },
      "execution_count": null,
      "outputs": []
    },
    {
      "cell_type": "code",
      "source": [
        "lista.extend([200, 300, 400])  #aggiunge 200, 300, 400 alla fine della lista\n",
        "print(lista)"
      ],
      "metadata": {
        "id": "O2zFQavPZk_P"
      },
      "execution_count": null,
      "outputs": []
    },
    {
      "cell_type": "code",
      "source": [
        "lista.remove(10)  #rimuove l'elemento 10 dalla lista\n",
        "print(lista)"
      ],
      "metadata": {
        "id": "j1KV7fEIZpbN"
      },
      "execution_count": null,
      "outputs": []
    },
    {
      "cell_type": "code",
      "source": [
        "del lista[0]  #rimuove l'elemento della lista con indice 0\n",
        "print(lista)"
      ],
      "metadata": {
        "id": "FMu_CTA4Z5RG"
      },
      "execution_count": null,
      "outputs": []
    },
    {
      "cell_type": "code",
      "source": [
        "lista.index(30) #mostra l'indice dell'elemento all'interno delle parentesi"
      ],
      "metadata": {
        "id": "8xDUoXknZ_mR"
      },
      "execution_count": null,
      "outputs": []
    },
    {
      "cell_type": "code",
      "source": [
        "lista[2:] #mostra gli elementi dall'indice 2 fino alla fine della lista"
      ],
      "metadata": {
        "id": "lc2OramEaFon"
      },
      "execution_count": null,
      "outputs": []
    },
    {
      "cell_type": "code",
      "source": [
        "lista[:3]  #mostra gli elementi dall'inizio della lista all'elemento con indice 2 (3-1)"
      ],
      "metadata": {
        "id": "LbeJXM2Ha2vr"
      },
      "execution_count": null,
      "outputs": []
    },
    {
      "cell_type": "code",
      "source": [
        "500 in lista  #controllo se un elemento è nella lista"
      ],
      "metadata": {
        "id": "JuSTuRsSa_yM"
      },
      "execution_count": null,
      "outputs": []
    },
    {
      "cell_type": "code",
      "source": [
        "Match = 100\n",
        "for el in lista:\n",
        "  if el == Match:\n",
        "    output = str(el) + \" == \" + str(Match)\n",
        "    print(\"Match! \" + output)\n",
        "  else:\n",
        "    print(el)"
      ],
      "metadata": {
        "id": "NrASF_gbbXpB"
      },
      "execution_count": null,
      "outputs": []
    },
    {
      "cell_type": "code",
      "source": [
        "#creo una lista con 10 numeri casuali\n",
        "import random\n",
        "listaRandom = [random.randint(10, 30) for numero in range(10)]\n",
        "print(listaRandom)"
      ],
      "metadata": {
        "id": "jBTne3aPcCWS"
      },
      "execution_count": null,
      "outputs": []
    },
    {
      "cell_type": "code",
      "source": [
        "listaRandom2 = [random.randint(10, 30) for numero in range(10)]\n",
        "print(listaRandom2)"
      ],
      "metadata": {
        "id": "7HAPAerocVw5"
      },
      "execution_count": null,
      "outputs": []
    },
    {
      "cell_type": "code",
      "source": [
        "max(listaRandom)"
      ],
      "metadata": {
        "id": "C3U4N2gycaFp"
      },
      "execution_count": null,
      "outputs": []
    },
    {
      "cell_type": "code",
      "source": [
        "min(listaRandom)"
      ],
      "metadata": {
        "id": "Fig7eMlKciOw"
      },
      "execution_count": null,
      "outputs": []
    },
    {
      "cell_type": "code",
      "source": [
        "sum(listaRandom)"
      ],
      "metadata": {
        "id": "Kelf22muckAL"
      },
      "execution_count": null,
      "outputs": []
    },
    {
      "cell_type": "code",
      "source": [
        "#creo una lista con la somma dei numeri delle altre due liste in corrispondenza di indice\n",
        "listaSomme = [listaRandom[i] + listaRandom2[i] for i in range(len(listaRandom))]\n",
        "print(listaSomme)"
      ],
      "metadata": {
        "id": "rUF_L7CHcl2a"
      },
      "execution_count": null,
      "outputs": []
    },
    {
      "cell_type": "markdown",
      "source": [
        "#insiemi"
      ],
      "metadata": {
        "id": "qN4ZDGx9c8Vc"
      }
    },
    {
      "cell_type": "code",
      "source": [
        "insieme = {1, 2, 3, 4, 5, 6, 7, 8, 9, 10}  #gli elementi di un insieme non hanno indice\n",
        "print(insieme)"
      ],
      "metadata": {
        "id": "HI2Kyo25c-Cg"
      },
      "execution_count": null,
      "outputs": []
    },
    {
      "cell_type": "code",
      "source": [
        "insieme2 = {4, 5, 9, 20, 30, 40}\n",
        "print(insieme2)"
      ],
      "metadata": {
        "id": "yXjN086HdPnV"
      },
      "execution_count": null,
      "outputs": []
    },
    {
      "cell_type": "code",
      "source": [
        "elementiComuni = insieme.intersection(insieme2)  #prende gli elementi comuni nei due insiemi\n",
        "print(elementiComuni)"
      ],
      "metadata": {
        "id": "z4SLKq5tdjug"
      },
      "execution_count": null,
      "outputs": []
    },
    {
      "cell_type": "code",
      "source": [
        "elementiSoloInsieme = insieme.difference(insieme2) #prende gli elementi che sono solo in un insieme (quindi non gli elementi comuni)\n",
        "print(elementiSoloInsieme)"
      ],
      "metadata": {
        "id": "7J-hW4x5dp5a"
      },
      "execution_count": null,
      "outputs": []
    },
    {
      "cell_type": "code",
      "source": [
        "nomi = {\"riccardo\", \"serena\", \"vittoria\", \"lorenzo\", \"fabio\"}\n",
        "nomi2 = {\"serena\", \"luca\", \"leonardo\", \"davide\", \"riccardo\"}\n",
        "nomi3 = {\"serena\", \"gigio\", \"pino\", \"matteo\", \"riccardo\"}"
      ],
      "metadata": {
        "id": "4zCi6tuSd8nF"
      },
      "execution_count": 30,
      "outputs": []
    },
    {
      "cell_type": "code",
      "source": [
        "comuni = nomi.intersection(nomi2, nomi3)\n",
        "print(comuni)"
      ],
      "metadata": {
        "id": "SP4DTfZ0fwMw"
      },
      "execution_count": null,
      "outputs": []
    },
    {
      "cell_type": "code",
      "source": [
        "tutti = nomi.union(nomi2, nomi3)  #elimina i duplicati\n",
        "print(tutti)"
      ],
      "metadata": {
        "id": "KxNHJhZSgAQa"
      },
      "execution_count": null,
      "outputs": []
    },
    {
      "cell_type": "code",
      "source": [
        "differenza = nomi.symmetric_difference(nomi2)  #prende tutti gli elementi dei due insiemi tranne gli elementi comuni\n",
        "print(differenza)"
      ],
      "metadata": {
        "id": "-t1qjBlhgG5L"
      },
      "execution_count": null,
      "outputs": []
    },
    {
      "cell_type": "code",
      "source": [
        "insieme.add(1000)\n",
        "print(insieme)"
      ],
      "metadata": {
        "id": "ZsHVPA_hg4ws"
      },
      "execution_count": null,
      "outputs": []
    },
    {
      "cell_type": "code",
      "source": [
        "insieme.remove(1000)\n",
        "print(insieme)"
      ],
      "metadata": {
        "id": "eFacorHyhEF2"
      },
      "execution_count": null,
      "outputs": []
    },
    {
      "cell_type": "markdown",
      "source": [
        "#dizionari"
      ],
      "metadata": {
        "id": "jiByH9YdhIZx"
      }
    },
    {
      "cell_type": "code",
      "source": [
        "dizionario = {\n",
        "    \"nome\":\"riccardo\",\n",
        "    \"cognome\":\"lotorto\",\n",
        "    \"sesso\":\"maschio\"\n",
        "}\n",
        "print(dizionario)"
      ],
      "metadata": {
        "id": "MTiit5IqhKHn"
      },
      "execution_count": null,
      "outputs": []
    },
    {
      "cell_type": "code",
      "source": [
        "for chiavi in dizionario.keys():  #mostra tutte le chiavi del dizionario\n",
        "  print(chiavi)"
      ],
      "metadata": {
        "id": "8iJNfIYqhZIO"
      },
      "execution_count": null,
      "outputs": []
    },
    {
      "cell_type": "code",
      "source": [
        "for valori in dizionario.values():  #mostra tutti i valori del dizionario\n",
        "  print(valori)"
      ],
      "metadata": {
        "id": "vLa07o8yhhg8"
      },
      "execution_count": null,
      "outputs": []
    },
    {
      "cell_type": "code",
      "source": [
        "dizionario[\"eta\"] = 16  #aggiungo una chiave con il suo rispettivo valore\n",
        "print(dizionario)"
      ],
      "metadata": {
        "id": "XXZkVH0Khw3D"
      },
      "execution_count": null,
      "outputs": []
    },
    {
      "cell_type": "code",
      "source": [
        "for key, value in dizionario.items():\n",
        "  print(key + \" : \", value)"
      ],
      "metadata": {
        "id": "lqzlxVdljApA"
      },
      "execution_count": null,
      "outputs": []
    },
    {
      "cell_type": "code",
      "source": [
        "dizionario.get(\"nome\")  #prende il valore della chiave presente nelle parentesi"
      ],
      "metadata": {
        "id": "cci4Zx1vh54t"
      },
      "execution_count": null,
      "outputs": []
    },
    {
      "cell_type": "code",
      "source": [
        "dizionario.pop(\"cognome\")  #rimuove la chiave cognome e il suo rispettivo valore\n",
        "print(dizionario)"
      ],
      "metadata": {
        "id": "WZ0HO6bOjX41"
      },
      "execution_count": null,
      "outputs": []
    },
    {
      "cell_type": "code",
      "source": [
        "dizionario.popitem()   #rimuove l'ultima chiave presente e il suo rispettivo valore\n",
        "print(dizionario)"
      ],
      "metadata": {
        "id": "9DJezm_6jqol"
      },
      "execution_count": null,
      "outputs": []
    },
    {
      "cell_type": "code",
      "source": [
        "dizionario.update({\"citta\":\"bresso\"})  #inserisce in fondo al dizionario la coppia chiave-valore\n",
        "print(dizionario)"
      ],
      "metadata": {
        "id": "ki5YCTUhj7-Q"
      },
      "execution_count": null,
      "outputs": []
    },
    {
      "cell_type": "code",
      "source": [
        "dizionario.clear()  #elimina tutte le coppie chiavi-valori dal dizionario"
      ],
      "metadata": {
        "id": "30wEsdK5kNLs"
      },
      "execution_count": 48,
      "outputs": []
    }
  ]
}